{
 "cells": [
  {
   "cell_type": "markdown",
   "metadata": {},
   "source": [
    "# Static/Shared Libraries in C"
   ]
  },
  {
   "cell_type": "markdown",
   "metadata": {},
   "source": [
    "### Linux Architecture\n",
    "![Linux Architecture](Linux-Architecture.png)\n",
    "\n",
    "There are five layers to an Operating System:\n",
    "1) Process & Thread Management\n",
    "2) Memory Management\n",
    "3) File Management\n",
    "4) Input/Output Management\n",
    "5) Deadlock Management"
   ]
  },
  {
   "cell_type": "code",
   "execution_count": 3,
   "metadata": {},
   "outputs": [
    {
     "name": "stdout",
     "output_type": "stream",
     "text": [
      "Overwriting sampleHeader.h\n"
     ]
    }
   ],
   "source": [
    "%%file sampleHeader.h\n",
    "#include <stdio.h>\n",
    "void bill (char *);\n",
    "void fred (int);"
   ]
  },
  {
   "cell_type": "code",
   "execution_count": 5,
   "metadata": {},
   "outputs": [
    {
     "name": "stdout",
     "output_type": "stream",
     "text": [
      "Writing sample1.c\n"
     ]
    }
   ],
   "source": [
    "%%file sample1.c\n",
    "void main(){\n",
    "   // Pretend something happens here \n",
    "}"
   ]
  },
  {
   "cell_type": "code",
   "execution_count": 4,
   "metadata": {},
   "outputs": [
    {
     "name": "stdout",
     "output_type": "stream",
     "text": [
      "Writing sample2.c\n"
     ]
    }
   ],
   "source": [
    "%%file sample2.c\n",
    "void main(){\n",
    "    // Pretend something also happens here\n",
    "}"
   ]
  },
  {
   "cell_type": "markdown",
   "metadata": {},
   "source": [
    "## Static Libraries (Archives)\n",
    "- Creates a .a file (ex libBF.a)\n",
    "- Uses the **ar** (archive) command to create the library (with **crv** flags - create, replace, verbose)\n",
    "- Links together object files\n",
    "\n",
    "``` ar crv lib.a prog1.o prog2.o ```\n",
    "\n",
    "<!-- ![Making Static Libraries Visualized](Making-Static-Libraries.png) -->"
   ]
  },
  {
   "cell_type": "code",
   "execution_count": null,
   "metadata": {},
   "outputs": [],
   "source": [
    "%%bash\n",
    "gcc -c sample1.c\n",
    "gcc -c sample2.c\n",
    "\n",
    "ar crv libBF.a sample1.o sample2.o"
   ]
  },
  {
   "cell_type": "markdown",
   "metadata": {},
   "source": [
    "## Shared Libraries \n",
    "- Creates a .so file (ex, libBF.so)\n",
    "- Can be linked to any program at runtime. Once loaded, can be used by any number of programs, saving memory space.\n",
    "- _Compiled_ with **-fPIC** flag into *position independent code* (required by library)\n",
    "- Shared library is _created_ using **-shared** flag when turning into **.so** file.\n",
    "- Can be _attached_ by compiling with other object files\n",
    "\n",
    "``` gcc -c -fPIC shared.c ```\n",
    "``` gcc -shared -o libshared.so shared.o ```"
   ]
  },
  {
   "cell_type": "code",
   "execution_count": null,
   "metadata": {},
   "outputs": [],
   "source": [
    "%%bash\n",
    "\n",
    "gcc -c -fPIC sample1.c  # Pretend this is library code\n",
    "gcc -shared -o libshared.so sampleheader.o\n",
    "gcc -c sample2.c\n",
    "gcc -o example sample2.c libshared.so  # Compiling with shared library dependency"
   ]
  },
  {
   "cell_type": "markdown",
   "metadata": {},
   "source": [
    "## What's the difference?\n",
    "- **Shared Libraries** are **loaded into memory at runtime**, allowing for them to be used by multiple programs simultaneously. **Static Libraries**, on the other hand, are **directly compiled into the Executable**, increasing program size but ensuring all code is self-contained.\n",
    "- Static Libraries are portable, being self-contained and requiring no external dependencies. "
   ]
  }
 ],
 "metadata": {
  "kernelspec": {
   "display_name": "base",
   "language": "python",
   "name": "python3"
  },
  "language_info": {
   "codemirror_mode": {
    "name": "ipython",
    "version": 3
   },
   "file_extension": ".py",
   "mimetype": "text/x-python",
   "name": "python",
   "nbconvert_exporter": "python",
   "pygments_lexer": "ipython3",
   "version": "3.11.7"
  }
 },
 "nbformat": 4,
 "nbformat_minor": 2
}
