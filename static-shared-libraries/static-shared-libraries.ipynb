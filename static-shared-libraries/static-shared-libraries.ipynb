{
 "cells": [
  {
   "cell_type": "markdown",
   "metadata": {},
   "source": [
    "# Static/Shared Libraries in C"
   ]
  },
  {
   "cell_type": "markdown",
   "metadata": {},
   "source": [
    "### Linux Architecture\n",
    "![Linux Architecture](Linux-Architecture.png)\n",
    "\n",
    "There are five layers to an Operating System:\n",
    "1) Process & Thread Management\n",
    "2) Memory Management\n",
    "3) File Management\n",
    "4) Input/Output Management\n",
    "5) Deadlock Management"
   ]
  },
  {
   "cell_type": "code",
   "execution_count": 3,
   "metadata": {},
   "outputs": [
    {
     "name": "stdout",
     "output_type": "stream",
     "text": [
      "Overwriting sampleHeader.h\n"
     ]
    }
   ],
   "source": [
    "%%file sampleHeader.h\n",
    "#include <stdio.h>\n",
    "void bill (char *);\n",
    "void fred (int);"
   ]
  },
  {
   "cell_type": "code",
   "execution_count": 5,
   "metadata": {},
   "outputs": [
    {
     "name": "stdout",
     "output_type": "stream",
     "text": [
      "Writing sample1.c\n"
     ]
    }
   ],
   "source": [
    "%%file sample1.c\n",
    "void main(){\n",
    "   // Pretend something happens here \n",
    "}"
   ]
  },
  {
   "cell_type": "code",
   "execution_count": 4,
   "metadata": {},
   "outputs": [
    {
     "name": "stdout",
     "output_type": "stream",
     "text": [
      "Writing sample2.c\n"
     ]
    }
   ],
   "source": [
    "%%file sample2.c\n",
    "void main(){\n",
    "    // Pretend something also happens here\n",
    "}"
   ]
  },
  {
   "cell_type": "markdown",
   "metadata": {},
   "source": [
    "## Static Libraries (Archives)\n",
    "- Creates a .a file (ex libBF.a)\n",
    "- Uses the **ar** (archive) command to create the library (with **crv** flags - create, replace, verbose)\n",
    "- Links together object files\n",
    "\n",
    "``` ar crv lib.a prog1.o prog2.o ```\n",
    "\n",
    "<!-- ![Making Static Libraries Visualized](Making-Static-Libraries.png) -->"
   ]
  },
  {
   "cell_type": "code",
   "execution_count": null,
   "metadata": {},
   "outputs": [],
   "source": [
    "%%bash\n",
    "gcc -c sample1.c\n",
    "gcc -c sample2.c\n",
    "\n",
    "ar crv libBF.a sample1.o sample2.o"
   ]
  },
  {
   "cell_type": "markdown",
   "metadata": {},
   "source": [
    "## Shared Libraries \n"
   ]
  }
 ],
 "metadata": {
  "kernelspec": {
   "display_name": "base",
   "language": "python",
   "name": "python3"
  },
  "language_info": {
   "codemirror_mode": {
    "name": "ipython",
    "version": 3
   },
   "file_extension": ".py",
   "mimetype": "text/x-python",
   "name": "python",
   "nbconvert_exporter": "python",
   "pygments_lexer": "ipython3",
   "version": "3.11.7"
  }
 },
 "nbformat": 4,
 "nbformat_minor": 2
}
