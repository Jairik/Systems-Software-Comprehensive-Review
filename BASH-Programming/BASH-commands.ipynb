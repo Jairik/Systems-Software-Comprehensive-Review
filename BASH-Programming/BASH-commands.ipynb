{
 "cells": [
  {
   "cell_type": "markdown",
   "metadata": {},
   "source": [
    "# Essential BASH Commands\n",
    "*Covers: Basic Bash Commands, Redirecting Input/Output, Pipes (\"|\")*"
   ]
  },
  {
   "cell_type": "markdown",
   "metadata": {},
   "source": [
    "BASH commands are used in command line to do something. **Essential BASH Commands** are:\n",
    "- date\n",
    "- cal\n",
    "- wc (word count)\n",
    "- whoami\n",
    "- pwd\n",
    "- cd\n",
    "- echo\n",
    "- man\n",
    "- ls\n",
    "- find (-name \"*.jpg\", for instance)\n",
    "- cat\n",
    "- *grep* (prints only parts of file interested in, ex, grep 10001 zipcodes.txt)"
   ]
  },
  {
   "cell_type": "markdown",
   "metadata": {},
   "source": [
    "## Redirecting Input/Output\n",
    "\n",
    "### Redirecting Output\n",
    "\n",
    "Using the **>** symbol redirects the output to a file, replacing the previous contents.\n",
    "\n",
    "``` date>today.txt ``` (Redirects output of 'date' to today.txt file)\n",
    "\n",
    "``` cat task1.c > task2.c ``` (Copies contents of task1.c to task2.c)\n",
    "\n",
    "Using the **>>** symbol **appends** the output of a file to another file\n",
    "\n",
    "``` date >> today.txt ``` (Appends date to existing data in today.txt)\n",
    "\n",
    "``` cat getInputFunction.c >> task1.c ``` (Appends contents of getInputFunction.c onto task1.c)\n",
    "\n",
    "### Redirecting Input\n",
    "\n",
    "In order to make the contents of a file serve as input to another command, we use **<** symbol.\n",
    "\n",
    "``` wc < task1.c ``` (Outputs the word count of the contents of task1.c)\n",
    "\n",
    "``` sort < unsorted.txt ``` (Passes in contents of unsorted.txt into the sort function)\n",
    "\n",
    "If we want to redirect the **output** of one command to serve as the **input of another command**, we use a ***pipe*** **(\"|\")**.\n",
    "\n",
    "#### Pipes\n",
    "Redirects output of a command into the input of another (output command | input command).\n",
    "\n",
    "``` ls | sort ``` (Passes the output of ls command into sort method, which would sort pwd)\n",
    "\n",
    "``` ls -l | sort | uniq | wc -l ``` \n",
    "1) **ls -l** Lists all files and directories in pwd, line by line. \n",
    "2) **| sort** Then passes that output into sort function to sort the list alphabetically. \n",
    "3) **| uniq** Then passes that output (sorted list) into uniq function, which removes duplicates entries if any exist. \n",
    "4) **| wc -l** Then, this output is passed into wc -l which counts the number of lines and outputs it onto standard output."
   ]
  }
 ],
 "metadata": {
  "language_info": {
   "name": "python"
  }
 },
 "nbformat": 4,
 "nbformat_minor": 2
}
