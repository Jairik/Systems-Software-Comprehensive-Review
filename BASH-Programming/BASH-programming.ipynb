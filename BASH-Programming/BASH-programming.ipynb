{
 "cells": [
  {
   "cell_type": "markdown",
   "metadata": {},
   "source": [
    "# BASH Programming\n",
    "*Covers: Basically all BASH syntax*\n",
    "\n",
    "A BASH Script (Shell Script) is a *plain-text file* that contains shell commands. Optionally, it can have a .sh extension.\n",
    "\n",
    "The first line of the file must name an appropriate command processor, usually\n",
    "``` #!\\bin\\sh ```.\n",
    "\n",
    "Additionally, you must ``` chmod +x ``` the file to give it executable permissions.\n",
    "\n",
    "A weird BASH thing is that **0 = true**, while **1 = false**. This is important to note and not forget, despite how silly it is."
   ]
  },
  {
   "cell_type": "markdown",
   "metadata": {},
   "source": [
    "## Variables\n",
    "\n",
    "Unlike other programs, we don't need to declare variables. All **variables are stored as c-strings**, even when assigned numeric values. \n",
    "\n",
    "In order to access a variable, we must use **$** character.\n",
    "\n",
    "``` greeting = \"Hello World\" ```  (Strings must be written between quotation marks if spaces are present)\n",
    "\n",
    "``` echo $greeting ```  (Accesses the value at variable *greeting*)\n",
    "\n",
    "User Input can be assigned to variables using the **read** command\n",
    "\n",
    "``` read name ```\n",
    "``` echo hello $name ```\n",
    "\n",
    "If parameters are passed to a script, the following variables are created:\n",
    "- **$0**: Environment Variable, always exists\n",
    "- **$1, $2, ...**: Parameters given to the script\n",
    "- **$\\***: Represents all arguments as a single string, seperated by first character in IFS (usually just a space).\n",
    "- **$@**: Represents all arguments as independent strings, essentially stored as an array.\n",
    "- **$#**: The number of parameters passed"
   ]
  },
  {
   "cell_type": "code",
   "execution_count": 9,
   "metadata": {},
   "outputs": [
    {
     "name": "stdout",
     "output_type": "stream",
     "text": [
      "Overwriting vars.sh\n"
     ]
    }
   ],
   "source": [
    "%%file vars.sh\n",
    "#!/bin/sh\n",
    "\n",
    "# Print each parameter\n",
    "echo \"You passed $# arguments into this script, as follows:\"\n",
    "for ARG in $@; do\n",
    "    echo $ARG\n",
    "done \n",
    "exit 0"
   ]
  },
  {
   "cell_type": "code",
   "execution_count": null,
   "metadata": {},
   "outputs": [],
   "source": [
    "%%bash\n",
    "chmod a+x vars.sh\n",
    "bash vars.sh Hello World"
   ]
  },
  {
   "cell_type": "markdown",
   "metadata": {},
   "source": [
    "## Conditionals\n",
    "\n",
    "For bash, you can use the **\\[** symbol (or the test command) to test conditionals.\n",
    "\n",
    "### String Comparison\n",
    "\n",
    "``` [ string1 = string2 ] ``` Testing if two strings are equal\n",
    "\n",
    "``` [ string1 != string2 ] ``` Testing if two strings are not equal\n",
    "\n",
    "``` [ -n string ] ```  Testing if string is not null\n",
    "\n",
    "``` [ -z string ] ``` Testing if string is null\n",
    "\n",
    "Note: Spaces must be around brackets (although second bracket isn't required, helps with readability)"
   ]
  },
  {
   "cell_type": "code",
   "execution_count": 12,
   "metadata": {},
   "outputs": [
    {
     "name": "stdout",
     "output_type": "stream",
     "text": [
      "Writing conditionals.sh\n"
     ]
    }
   ],
   "source": [
    "%%file strConditionals.sh\n",
    "#!/bin/bash\n",
    "\n",
    "myname=\"Jombie\"\n",
    "echo \"Hello! My name is $myname . What is your name?\"\n",
    "read yourname\n",
    "\n",
    "if [ test -z yourname ]; then  # Using brackets to test if string is null\n",
    "    echo \"No input from the keyboard\"\n",
    "    exit 1\n",
    "elif test $myname = $yourname ; then  # Using test statement\n",
    "    echo \"We have the same name!\"\n",
    "else\n",
    "    echo \"What is up $yourname\"\n",
    "fi \n",
    "\n",
    "exit(0);"
   ]
  },
  {
   "cell_type": "markdown",
   "metadata": {},
   "source": [
    "### Arithmetic Comparison\n",
    "\n",
    "``` [ expression1 -eq expression2 ] ```: **eq** tests if two expressions are equal\n",
    "\n",
    "``` [ expression1 -ne expression2 ] ```: **ne** tests if two expressions are *not* equal\n",
    "\n",
    "``` [ expression1 -gt expression2 ] ```: **gt** tests if ex1 is *greater* than ex2\n",
    "\n",
    "``` [ expression1 -ge expression2 ] ```: **ge** tests if ex1 is greater *or equal* to ex2\n",
    "\n",
    "``` [ expression1 -lt expression2 ] ```: **lt** tests if ex1 is *less* than ex2\n",
    "\n",
    "``` [ expression1 -le expression2 ] ```: **le** tests if ex1 is less *or equal* to ex2"
   ]
  },
  {
   "cell_type": "markdown",
   "metadata": {},
   "source": [
    "### File Conditionals\n",
    "- **-d**: tests if file is directory\n",
    "- **-e**: tests if file exists\n",
    "- **-s**: tests if file has nonzero size\n",
    "- **-f**: tests if file is regular file\n",
    "- **-g**: tests if set-group-id is on file\n",
    "- **-u**: tests if set-user-id is on file\n",
    "- **-r**: tests if file is readable\n",
    "- **-w**: tests if file is writable\n",
    "- **-x**: tests if file is executable\n",
    "\n",
    "``` if [ -e $fname ]; then #... ```"
   ]
  },
  {
   "cell_type": "markdown",
   "metadata": {},
   "source": [
    "## Control Structures\n",
    "\n",
    "### if Statement\n",
    "\n",
    "Syntax:\n",
    "\n",
    "```bash\n",
    "if test-commands; then\n",
    "    ...\n",
    "elif test-commands; then\n",
    "    ...\n",
    "else\n",
    "    ...\n",
    "fi\n",
    "```\n",
    "\n",
    "### for loop\n",
    "\n",
    "```bash\n",
    "for name [in words ...]; do\n",
    "    ...\n",
    "done\n",
    "```\n",
    "\n",
    "OR\n",
    "\n",
    "```bash\n",
    "for((expr1; expr2; expr3)) ; do\n",
    "    ...\n",
    "done \n",
    "```"
   ]
  },
  {
   "cell_type": "code",
   "execution_count": null,
   "metadata": {},
   "outputs": [],
   "source": [
    "%%file forLoop.sh\n",
    "#!/bin/bash\n",
    "# Looks through pwd and prints names of files that contain the string \"main\"\n",
    "\n",
    "for file in *; do  # All files in current directory\n",
    "    if grep -q main $file; then  #q for \"quiet\", only returns 0 if match is found\n",
    "        echo $file\n",
    "    fi\n",
    "done\n",
    "exit 0"
   ]
  }
 ],
 "metadata": {
  "kernelspec": {
   "display_name": "base",
   "language": "python",
   "name": "python3"
  },
  "language_info": {
   "codemirror_mode": {
    "name": "ipython",
    "version": 3
   },
   "file_extension": ".py",
   "mimetype": "text/x-python",
   "name": "python",
   "nbconvert_exporter": "python",
   "pygments_lexer": "ipython3",
   "version": "3.11.7"
  }
 },
 "nbformat": 4,
 "nbformat_minor": 2
}
